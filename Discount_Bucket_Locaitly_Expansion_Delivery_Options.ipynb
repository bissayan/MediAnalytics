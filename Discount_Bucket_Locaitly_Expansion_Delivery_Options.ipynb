{
  "nbformat": 4,
  "nbformat_minor": 0,
  "metadata": {
    "colab": {
      "provenance": []
    },
    "kernelspec": {
      "name": "python3",
      "display_name": "Python 3"
    },
    "language_info": {
      "name": "python"
    },
    "widgets": {
      "application/vnd.jupyter.widget-state+json": {
        "38a5e16464e04ebcbe3025b81d1a7491": {
          "model_module": "@jupyter-widgets/output",
          "model_name": "OutputModel",
          "model_module_version": "1.0.0",
          "state": {
            "_dom_classes": [],
            "_model_module": "@jupyter-widgets/output",
            "_model_module_version": "1.0.0",
            "_model_name": "OutputModel",
            "_view_count": null,
            "_view_module": "@jupyter-widgets/output",
            "_view_module_version": "1.0.0",
            "_view_name": "OutputView",
            "layout": "IPY_MODEL_f5ba587642474a18a575fa562415cf0a",
            "msg_id": "",
            "outputs": [
              {
                "output_type": "display_data",
                "data": {
                  "text/plain": "                                                                                                                   \n \u001b[1m \u001b[0m\u001b[1mProgress                 \u001b[0m\u001b[1m \u001b[0m \u001b[1m \u001b[0m\u001b[1mDraws\u001b[0m\u001b[1m \u001b[0m \u001b[1m \u001b[0m\u001b[1mDivergences\u001b[0m\u001b[1m \u001b[0m \u001b[1m \u001b[0m\u001b[1mStep size\u001b[0m\u001b[1m \u001b[0m \u001b[1m \u001b[0m\u001b[1mGrad evals\u001b[0m\u001b[1m \u001b[0m \u001b[1m \u001b[0m\u001b[1mSampling Speed\u001b[0m\u001b[1m \u001b[0m \u001b[1m \u001b[0m\u001b[1mElapsed\u001b[0m\u001b[1m \u001b[0m \u001b[1m \u001b[0m\u001b[1mRemaining\u001b[0m\u001b[1m \u001b[0m \n ───────────────────────────────────────────────────────────────────────────────────────────────────────────────── \n  \u001b[38;2;31;119;180m━━━━━━━━━━━━━━━━━━━━━━━━━\u001b[0m   3000    0             0.94        3            34.38 draws/s    0:01:27   0:00:00    \n  \u001b[38;2;31;119;180m━━━━━━━━━━━━━━━━━━━━━━━━━\u001b[0m   3000    0             0.96        3            19.26 draws/s    0:02:35   0:00:00    \n                                                                                                                   \n",
                  "text/html": "<pre style=\"white-space:pre;overflow-x:auto;line-height:normal;font-family:Menlo,'DejaVu Sans Mono',consolas,'Courier New',monospace\">                                                                                                                   \n <span style=\"font-weight: bold\"> Progress                  </span> <span style=\"font-weight: bold\"> Draws </span> <span style=\"font-weight: bold\"> Divergences </span> <span style=\"font-weight: bold\"> Step size </span> <span style=\"font-weight: bold\"> Grad evals </span> <span style=\"font-weight: bold\"> Sampling Speed </span> <span style=\"font-weight: bold\"> Elapsed </span> <span style=\"font-weight: bold\"> Remaining </span> \n ───────────────────────────────────────────────────────────────────────────────────────────────────────────────── \n  <span style=\"color: #1f77b4; text-decoration-color: #1f77b4\">━━━━━━━━━━━━━━━━━━━━━━━━━</span>   3000    0             0.94        3            34.38 draws/s    0:01:27   0:00:00    \n  <span style=\"color: #1f77b4; text-decoration-color: #1f77b4\">━━━━━━━━━━━━━━━━━━━━━━━━━</span>   3000    0             0.96        3            19.26 draws/s    0:02:35   0:00:00    \n                                                                                                                   \n</pre>\n"
                },
                "metadata": {}
              }
            ]
          }
        },
        "f5ba587642474a18a575fa562415cf0a": {
          "model_module": "@jupyter-widgets/base",
          "model_name": "LayoutModel",
          "model_module_version": "1.2.0",
          "state": {
            "_model_module": "@jupyter-widgets/base",
            "_model_module_version": "1.2.0",
            "_model_name": "LayoutModel",
            "_view_count": null,
            "_view_module": "@jupyter-widgets/base",
            "_view_module_version": "1.2.0",
            "_view_name": "LayoutView",
            "align_content": null,
            "align_items": null,
            "align_self": null,
            "border": null,
            "bottom": null,
            "display": null,
            "flex": null,
            "flex_flow": null,
            "grid_area": null,
            "grid_auto_columns": null,
            "grid_auto_flow": null,
            "grid_auto_rows": null,
            "grid_column": null,
            "grid_gap": null,
            "grid_row": null,
            "grid_template_areas": null,
            "grid_template_columns": null,
            "grid_template_rows": null,
            "height": null,
            "justify_content": null,
            "justify_items": null,
            "left": null,
            "margin": null,
            "max_height": null,
            "max_width": null,
            "min_height": null,
            "min_width": null,
            "object_fit": null,
            "object_position": null,
            "order": null,
            "overflow": null,
            "overflow_x": null,
            "overflow_y": null,
            "padding": null,
            "right": null,
            "top": null,
            "visibility": null,
            "width": null
          }
        }
      }
    }
  },
  "cells": [
    {
      "cell_type": "code",
      "source": [
        "import pandas as pd\n",
        "from scipy.stats import ttest_ind\n",
        "from statsmodels.stats.multicomp import pairwise_tukeyhsd\n",
        "import statsmodels.api as sm\n",
        "from statsmodels.formula.api import ols\n",
        "\n",
        "\n",
        "df = pd.read_excel(\"medicine_store_data_Final.xlsx\", sheet_name='Purchases')\n",
        "\n",
        "df = df[['total_price', 'quantity', 'locality']].dropna()\n",
        "\n",
        "df.rename(columns={'quantity': 'Quantity', 'total_price': 'TotalPrice'}, inplace=True)\n",
        "\n",
        "bins = [0, 50, 100, 150, 200, 300, 500, 1000]\n",
        "labels = ['0–50', '51–100', '101–150', '151–200', '201–300', '301–500', '501–1000']\n",
        "df['PriceBucket'] = pd.cut(df['TotalPrice'], bins=bins, labels=labels)\n",
        "\n",
        "# ANOVA\n",
        "model = ols('Quantity ~ C(PriceBucket)', data=df).fit()\n",
        "anova_table = sm.stats.anova_lm(model, typ=2)\n",
        "\n",
        "print(\"\\n ANOVA Table:\")\n",
        "print(anova_table)\n",
        "\n",
        "# Post-hoc Test (Tukey's HSD)\n",
        "df = df.dropna(subset=['PriceBucket'])\n",
        "tukey = pairwise_tukeyhsd(endog=df['Quantity'], groups=df['PriceBucket'], alpha=0.05)\n",
        "print(\"\\n Tukey HSD Post-Hoc Results:\")\n",
        "print(tukey.summary())\n",
        "\n",
        "# Top 2 groups with lowest p-value\n",
        "tukey_df = pd.DataFrame(data=tukey._results_table.data[1:], columns=tukey._results_table.data[0])\n",
        "tukey_df = tukey_df.sort_values(by='p-adj')\n",
        "\n",
        "\n",
        "group1, group2 = tukey_df.iloc[0]['group1'], tukey_df.iloc[0]['group2']\n",
        "print(f\"\\n Most distinct pair from Tukey HSD: {group1} vs {group2}\")\n",
        "\n",
        "# t-test on 2 selected bucket\n",
        "g1_data = df[df['PriceBucket'] == group1]['Quantity']\n",
        "g2_data = df[df['PriceBucket'] == group2]['Quantity']\n",
        "\n",
        "t_stat, p_val = ttest_ind(g1_data, g2_data, equal_var=False)\n",
        "\n",
        "print(f\"\\n T-test between {group1} and {group2}:\")\n",
        "print(f\"T-statistic: {t_stat:.4f}\")\n",
        "print(f\"P-value: {p_val:.4f}\")\n"
      ],
      "metadata": {
        "colab": {
          "base_uri": "https://localhost:8080/"
        },
        "id": "P_x4jpnnuFxW",
        "outputId": "c1067511-3feb-42ab-e976-c717fe7da800"
      },
      "execution_count": null,
      "outputs": [
        {
          "output_type": "stream",
          "name": "stdout",
          "text": [
            "\n",
            "📊 ANOVA Table:\n",
            "                       sum_sq        df          F        PR(>F)\n",
            "C(PriceBucket)     101.987215       6.0  43.843203  7.058648e-54\n",
            "Residual        101985.967890  263056.0        NaN           NaN\n",
            "\n",
            "📌 Tukey HSD Post-Hoc Results:\n",
            "  Multiple Comparison of Means - Tukey HSD, FWER=0.05  \n",
            "=======================================================\n",
            " group1   group2  meandiff p-adj   lower  upper  reject\n",
            "-------------------------------------------------------\n",
            "    0–50  101–150   0.0917    0.0  0.0676 0.1159   True\n",
            "    0–50  151–200    0.101    0.0  0.0768 0.1251   True\n",
            "    0–50  201–300   0.1002    0.0  0.0788 0.1216   True\n",
            "    0–50  301–500   0.1045    0.0  0.0847 0.1243   True\n",
            "    0–50 501–1000   0.0976    0.0  0.0788 0.1165   True\n",
            "    0–50   51–100   0.1102    0.0   0.086 0.1343   True\n",
            " 101–150  151–200   0.0092 0.8914 -0.0133 0.0317  False\n",
            " 101–150  201–300   0.0085 0.8615  -0.011  0.028  False\n",
            " 101–150  301–500   0.0128 0.3442  -0.005 0.0305  False\n",
            " 101–150 501–1000   0.0059 0.9447 -0.0108 0.0226  False\n",
            " 101–150   51–100   0.0184  0.194 -0.0041 0.0409  False\n",
            " 151–200  201–300  -0.0008    1.0 -0.0202 0.0187  False\n",
            " 151–200  301–500   0.0035 0.9972 -0.0142 0.0213  False\n",
            " 151–200 501–1000  -0.0033 0.9972   -0.02 0.0133  False\n",
            " 151–200   51–100   0.0092 0.8929 -0.0133 0.0317  False\n",
            " 201–300  301–500   0.0043   0.97 -0.0095 0.0181  False\n",
            " 201–300 501–1000  -0.0026 0.9964 -0.0149 0.0098  False\n",
            " 201–300   51–100   0.0099 0.7436 -0.0096 0.0294  False\n",
            " 301–500 501–1000  -0.0069 0.3215 -0.0163 0.0025  False\n",
            " 301–500   51–100   0.0056 0.9667 -0.0121 0.0234  False\n",
            "501–1000   51–100   0.0125 0.2898 -0.0042 0.0292  False\n",
            "-------------------------------------------------------\n",
            "\n",
            "🏆 Most distinct pair from Tukey HSD: 0–50 vs 101–150\n",
            "\n",
            "🧪 T-test between 0–50 and 101–150:\n",
            "T-statistic: -14.7977\n",
            "P-value: 0.0000\n"
          ]
        }
      ]
    },
    {
      "cell_type": "markdown",
      "source": [
        "ANOVA & Post-Hoc Insights:\n",
        "The ANOVA (p≈0.0) confirms significant differences in Quantity across PriceBucket groups. Tukey’s HSD highlights \"0–50\" vs \"101–150\" as the most distinct pair (p=0.0), supported by an extreme t-statistic (-14.8). This suggests lower-priced purchases (0–50) drive meaningfully different quantities than mid-range (101–150), likely reflecting bulk vs single-unit buying behavior."
      ],
      "metadata": {
        "id": "XBnHtcomtQSQ"
      }
    },
    {
      "cell_type": "markdown",
      "source": [
        "2-Way ANOVA"
      ],
      "metadata": {
        "id": "XDtkXO0N7n_U"
      }
    },
    {
      "cell_type": "code",
      "source": [
        "import pandas as pd\n",
        "import statsmodels.api as sm\n",
        "from statsmodels.formula.api import ols\n",
        "\n",
        "# Price buckets\n",
        "def price_bucket(price):\n",
        "    if price <= 50:\n",
        "        return '0–50'\n",
        "    elif price <= 100:\n",
        "        return '51–100'\n",
        "    elif price <= 150:\n",
        "        return '101–150'\n",
        "    elif price <= 200:\n",
        "        return '151–200'\n",
        "    elif price <= 300:\n",
        "        return '201–300'\n",
        "    elif price <= 500:\n",
        "        return '301–500'\n",
        "    else:\n",
        "        return '501–1000'\n",
        "\n",
        "df['PriceBucket'] = df['TotalPrice'].apply(price_bucket)\n",
        "\n",
        "df_anova = df[['Quantity', 'PriceBucket', 'locality']].dropna()\n",
        "\n",
        "# Two-way ANOVA\n",
        "model = ols('Quantity ~ C(PriceBucket) + C(locality) + C(PriceBucket):C(locality)', data=df_anova).fit()\n",
        "anova_table = sm.stats.anova_lm(model, typ=2)\n",
        "print(\"\\n Two-Way ANOVA Table:\")\n",
        "print(anova_table)\n"
      ],
      "metadata": {
        "colab": {
          "base_uri": "https://localhost:8080/"
        },
        "id": "Eh0266Kh7rhn",
        "outputId": "fca4080b-66ed-47b2-9cb2-33bb059f3ac4"
      },
      "execution_count": null,
      "outputs": [
        {
          "output_type": "stream",
          "name": "stderr",
          "text": [
            "/tmp/ipython-input-55-3335985090.py:22: SettingWithCopyWarning: \n",
            "A value is trying to be set on a copy of a slice from a DataFrame.\n",
            "Try using .loc[row_indexer,col_indexer] = value instead\n",
            "\n",
            "See the caveats in the documentation: https://pandas.pydata.org/pandas-docs/stable/user_guide/indexing.html#returning-a-view-versus-a-copy\n",
            "  df['PriceBucket'] = df['TotalPrice'].apply(price_bucket)\n"
          ]
        },
        {
          "output_type": "stream",
          "name": "stdout",
          "text": [
            "\n",
            "📊 Two-Way ANOVA Table:\n",
            "                                   sum_sq        df          F        PR(>F)\n",
            "C(PriceBucket)                 102.006598       6.0  43.851064  6.896786e-54\n",
            "C(locality)                      1.473286       4.0   0.950014  4.337427e-01\n",
            "C(PriceBucket):C(locality)       8.286929      24.0   0.890606  6.165424e-01\n",
            "Residual                    101976.207675  263028.0        NaN           NaN\n"
          ]
        }
      ]
    },
    {
      "cell_type": "markdown",
      "source": [
        "PriceBucket Dominates: The extremely low p-value (≈0.0) for PriceBucket confirms it significantly affects purchase quantity, while locality (p=0.43) and interaction effects (p=0.62) are not statistically significant.\n",
        "\n",
        "No Localized Pricing Patterns: The high p-value for locality and its interaction with PriceBucket suggests no meaningful regional differences in how price buckets influence quantity purchased.\n",
        "\n",
        "Actionable Takeaway: Focus pricing strategies on global trends (e.g., discounts for mid-range buckets like 101–150) rather than location-specific adjustments."
      ],
      "metadata": {
        "id": "N68H53h8t4q0"
      }
    },
    {
      "cell_type": "code",
      "source": [
        "df"
      ],
      "metadata": {
        "colab": {
          "base_uri": "https://localhost:8080/",
          "height": 423
        },
        "id": "_A4Q4Rj0EEpE",
        "outputId": "83d616af-e12e-447b-c682-16e578e5becf"
      },
      "execution_count": null,
      "outputs": [
        {
          "output_type": "execute_result",
          "data": {
            "text/plain": [
              "        TotalPrice  Quantity     locality PriceBucket\n",
              "0           186.98         1     Agarpara     151–200\n",
              "1            33.37         1      Sodepur        0–50\n",
              "2           528.25         1  Barrackpore    501–1000\n",
              "3           459.73         1      Sodepur     301–500\n",
              "4           871.37         1  Barrackpore    501–1000\n",
              "...            ...       ...          ...         ...\n",
              "305182      515.62         1      Sodepur    501–1000\n",
              "305183       75.17         1  Barrackpore      51–100\n",
              "305184      919.65         1      Sodepur    501–1000\n",
              "305185      877.36         4    Belgharia    501–1000\n",
              "305187      638.15         1      Sodepur    501–1000\n",
              "\n",
              "[263063 rows x 4 columns]"
            ],
            "text/html": [
              "\n",
              "  <div id=\"df-7ca1d2f5-7a92-46ce-992e-bfcb72189245\" class=\"colab-df-container\">\n",
              "    <div>\n",
              "<style scoped>\n",
              "    .dataframe tbody tr th:only-of-type {\n",
              "        vertical-align: middle;\n",
              "    }\n",
              "\n",
              "    .dataframe tbody tr th {\n",
              "        vertical-align: top;\n",
              "    }\n",
              "\n",
              "    .dataframe thead th {\n",
              "        text-align: right;\n",
              "    }\n",
              "</style>\n",
              "<table border=\"1\" class=\"dataframe\">\n",
              "  <thead>\n",
              "    <tr style=\"text-align: right;\">\n",
              "      <th></th>\n",
              "      <th>TotalPrice</th>\n",
              "      <th>Quantity</th>\n",
              "      <th>locality</th>\n",
              "      <th>PriceBucket</th>\n",
              "    </tr>\n",
              "  </thead>\n",
              "  <tbody>\n",
              "    <tr>\n",
              "      <th>0</th>\n",
              "      <td>186.98</td>\n",
              "      <td>1</td>\n",
              "      <td>Agarpara</td>\n",
              "      <td>151–200</td>\n",
              "    </tr>\n",
              "    <tr>\n",
              "      <th>1</th>\n",
              "      <td>33.37</td>\n",
              "      <td>1</td>\n",
              "      <td>Sodepur</td>\n",
              "      <td>0–50</td>\n",
              "    </tr>\n",
              "    <tr>\n",
              "      <th>2</th>\n",
              "      <td>528.25</td>\n",
              "      <td>1</td>\n",
              "      <td>Barrackpore</td>\n",
              "      <td>501–1000</td>\n",
              "    </tr>\n",
              "    <tr>\n",
              "      <th>3</th>\n",
              "      <td>459.73</td>\n",
              "      <td>1</td>\n",
              "      <td>Sodepur</td>\n",
              "      <td>301–500</td>\n",
              "    </tr>\n",
              "    <tr>\n",
              "      <th>4</th>\n",
              "      <td>871.37</td>\n",
              "      <td>1</td>\n",
              "      <td>Barrackpore</td>\n",
              "      <td>501–1000</td>\n",
              "    </tr>\n",
              "    <tr>\n",
              "      <th>...</th>\n",
              "      <td>...</td>\n",
              "      <td>...</td>\n",
              "      <td>...</td>\n",
              "      <td>...</td>\n",
              "    </tr>\n",
              "    <tr>\n",
              "      <th>305182</th>\n",
              "      <td>515.62</td>\n",
              "      <td>1</td>\n",
              "      <td>Sodepur</td>\n",
              "      <td>501–1000</td>\n",
              "    </tr>\n",
              "    <tr>\n",
              "      <th>305183</th>\n",
              "      <td>75.17</td>\n",
              "      <td>1</td>\n",
              "      <td>Barrackpore</td>\n",
              "      <td>51–100</td>\n",
              "    </tr>\n",
              "    <tr>\n",
              "      <th>305184</th>\n",
              "      <td>919.65</td>\n",
              "      <td>1</td>\n",
              "      <td>Sodepur</td>\n",
              "      <td>501–1000</td>\n",
              "    </tr>\n",
              "    <tr>\n",
              "      <th>305185</th>\n",
              "      <td>877.36</td>\n",
              "      <td>4</td>\n",
              "      <td>Belgharia</td>\n",
              "      <td>501–1000</td>\n",
              "    </tr>\n",
              "    <tr>\n",
              "      <th>305187</th>\n",
              "      <td>638.15</td>\n",
              "      <td>1</td>\n",
              "      <td>Sodepur</td>\n",
              "      <td>501–1000</td>\n",
              "    </tr>\n",
              "  </tbody>\n",
              "</table>\n",
              "<p>263063 rows × 4 columns</p>\n",
              "</div>\n",
              "    <div class=\"colab-df-buttons\">\n",
              "\n",
              "  <div class=\"colab-df-container\">\n",
              "    <button class=\"colab-df-convert\" onclick=\"convertToInteractive('df-7ca1d2f5-7a92-46ce-992e-bfcb72189245')\"\n",
              "            title=\"Convert this dataframe to an interactive table.\"\n",
              "            style=\"display:none;\">\n",
              "\n",
              "  <svg xmlns=\"http://www.w3.org/2000/svg\" height=\"24px\" viewBox=\"0 -960 960 960\">\n",
              "    <path d=\"M120-120v-720h720v720H120Zm60-500h600v-160H180v160Zm220 220h160v-160H400v160Zm0 220h160v-160H400v160ZM180-400h160v-160H180v160Zm440 0h160v-160H620v160ZM180-180h160v-160H180v160Zm440 0h160v-160H620v160Z\"/>\n",
              "  </svg>\n",
              "    </button>\n",
              "\n",
              "  <style>\n",
              "    .colab-df-container {\n",
              "      display:flex;\n",
              "      gap: 12px;\n",
              "    }\n",
              "\n",
              "    .colab-df-convert {\n",
              "      background-color: #E8F0FE;\n",
              "      border: none;\n",
              "      border-radius: 50%;\n",
              "      cursor: pointer;\n",
              "      display: none;\n",
              "      fill: #1967D2;\n",
              "      height: 32px;\n",
              "      padding: 0 0 0 0;\n",
              "      width: 32px;\n",
              "    }\n",
              "\n",
              "    .colab-df-convert:hover {\n",
              "      background-color: #E2EBFA;\n",
              "      box-shadow: 0px 1px 2px rgba(60, 64, 67, 0.3), 0px 1px 3px 1px rgba(60, 64, 67, 0.15);\n",
              "      fill: #174EA6;\n",
              "    }\n",
              "\n",
              "    .colab-df-buttons div {\n",
              "      margin-bottom: 4px;\n",
              "    }\n",
              "\n",
              "    [theme=dark] .colab-df-convert {\n",
              "      background-color: #3B4455;\n",
              "      fill: #D2E3FC;\n",
              "    }\n",
              "\n",
              "    [theme=dark] .colab-df-convert:hover {\n",
              "      background-color: #434B5C;\n",
              "      box-shadow: 0px 1px 3px 1px rgba(0, 0, 0, 0.15);\n",
              "      filter: drop-shadow(0px 1px 2px rgba(0, 0, 0, 0.3));\n",
              "      fill: #FFFFFF;\n",
              "    }\n",
              "  </style>\n",
              "\n",
              "    <script>\n",
              "      const buttonEl =\n",
              "        document.querySelector('#df-7ca1d2f5-7a92-46ce-992e-bfcb72189245 button.colab-df-convert');\n",
              "      buttonEl.style.display =\n",
              "        google.colab.kernel.accessAllowed ? 'block' : 'none';\n",
              "\n",
              "      async function convertToInteractive(key) {\n",
              "        const element = document.querySelector('#df-7ca1d2f5-7a92-46ce-992e-bfcb72189245');\n",
              "        const dataTable =\n",
              "          await google.colab.kernel.invokeFunction('convertToInteractive',\n",
              "                                                    [key], {});\n",
              "        if (!dataTable) return;\n",
              "\n",
              "        const docLinkHtml = 'Like what you see? Visit the ' +\n",
              "          '<a target=\"_blank\" href=https://colab.research.google.com/notebooks/data_table.ipynb>data table notebook</a>'\n",
              "          + ' to learn more about interactive tables.';\n",
              "        element.innerHTML = '';\n",
              "        dataTable['output_type'] = 'display_data';\n",
              "        await google.colab.output.renderOutput(dataTable, element);\n",
              "        const docLink = document.createElement('div');\n",
              "        docLink.innerHTML = docLinkHtml;\n",
              "        element.appendChild(docLink);\n",
              "      }\n",
              "    </script>\n",
              "  </div>\n",
              "\n",
              "\n",
              "    <div id=\"df-0f8596d3-fb17-49e6-97cf-ecf9ec156d43\">\n",
              "      <button class=\"colab-df-quickchart\" onclick=\"quickchart('df-0f8596d3-fb17-49e6-97cf-ecf9ec156d43')\"\n",
              "                title=\"Suggest charts\"\n",
              "                style=\"display:none;\">\n",
              "\n",
              "<svg xmlns=\"http://www.w3.org/2000/svg\" height=\"24px\"viewBox=\"0 0 24 24\"\n",
              "     width=\"24px\">\n",
              "    <g>\n",
              "        <path d=\"M19 3H5c-1.1 0-2 .9-2 2v14c0 1.1.9 2 2 2h14c1.1 0 2-.9 2-2V5c0-1.1-.9-2-2-2zM9 17H7v-7h2v7zm4 0h-2V7h2v10zm4 0h-2v-4h2v4z\"/>\n",
              "    </g>\n",
              "</svg>\n",
              "      </button>\n",
              "\n",
              "<style>\n",
              "  .colab-df-quickchart {\n",
              "      --bg-color: #E8F0FE;\n",
              "      --fill-color: #1967D2;\n",
              "      --hover-bg-color: #E2EBFA;\n",
              "      --hover-fill-color: #174EA6;\n",
              "      --disabled-fill-color: #AAA;\n",
              "      --disabled-bg-color: #DDD;\n",
              "  }\n",
              "\n",
              "  [theme=dark] .colab-df-quickchart {\n",
              "      --bg-color: #3B4455;\n",
              "      --fill-color: #D2E3FC;\n",
              "      --hover-bg-color: #434B5C;\n",
              "      --hover-fill-color: #FFFFFF;\n",
              "      --disabled-bg-color: #3B4455;\n",
              "      --disabled-fill-color: #666;\n",
              "  }\n",
              "\n",
              "  .colab-df-quickchart {\n",
              "    background-color: var(--bg-color);\n",
              "    border: none;\n",
              "    border-radius: 50%;\n",
              "    cursor: pointer;\n",
              "    display: none;\n",
              "    fill: var(--fill-color);\n",
              "    height: 32px;\n",
              "    padding: 0;\n",
              "    width: 32px;\n",
              "  }\n",
              "\n",
              "  .colab-df-quickchart:hover {\n",
              "    background-color: var(--hover-bg-color);\n",
              "    box-shadow: 0 1px 2px rgba(60, 64, 67, 0.3), 0 1px 3px 1px rgba(60, 64, 67, 0.15);\n",
              "    fill: var(--button-hover-fill-color);\n",
              "  }\n",
              "\n",
              "  .colab-df-quickchart-complete:disabled,\n",
              "  .colab-df-quickchart-complete:disabled:hover {\n",
              "    background-color: var(--disabled-bg-color);\n",
              "    fill: var(--disabled-fill-color);\n",
              "    box-shadow: none;\n",
              "  }\n",
              "\n",
              "  .colab-df-spinner {\n",
              "    border: 2px solid var(--fill-color);\n",
              "    border-color: transparent;\n",
              "    border-bottom-color: var(--fill-color);\n",
              "    animation:\n",
              "      spin 1s steps(1) infinite;\n",
              "  }\n",
              "\n",
              "  @keyframes spin {\n",
              "    0% {\n",
              "      border-color: transparent;\n",
              "      border-bottom-color: var(--fill-color);\n",
              "      border-left-color: var(--fill-color);\n",
              "    }\n",
              "    20% {\n",
              "      border-color: transparent;\n",
              "      border-left-color: var(--fill-color);\n",
              "      border-top-color: var(--fill-color);\n",
              "    }\n",
              "    30% {\n",
              "      border-color: transparent;\n",
              "      border-left-color: var(--fill-color);\n",
              "      border-top-color: var(--fill-color);\n",
              "      border-right-color: var(--fill-color);\n",
              "    }\n",
              "    40% {\n",
              "      border-color: transparent;\n",
              "      border-right-color: var(--fill-color);\n",
              "      border-top-color: var(--fill-color);\n",
              "    }\n",
              "    60% {\n",
              "      border-color: transparent;\n",
              "      border-right-color: var(--fill-color);\n",
              "    }\n",
              "    80% {\n",
              "      border-color: transparent;\n",
              "      border-right-color: var(--fill-color);\n",
              "      border-bottom-color: var(--fill-color);\n",
              "    }\n",
              "    90% {\n",
              "      border-color: transparent;\n",
              "      border-bottom-color: var(--fill-color);\n",
              "    }\n",
              "  }\n",
              "</style>\n",
              "\n",
              "      <script>\n",
              "        async function quickchart(key) {\n",
              "          const quickchartButtonEl =\n",
              "            document.querySelector('#' + key + ' button');\n",
              "          quickchartButtonEl.disabled = true;  // To prevent multiple clicks.\n",
              "          quickchartButtonEl.classList.add('colab-df-spinner');\n",
              "          try {\n",
              "            const charts = await google.colab.kernel.invokeFunction(\n",
              "                'suggestCharts', [key], {});\n",
              "          } catch (error) {\n",
              "            console.error('Error during call to suggestCharts:', error);\n",
              "          }\n",
              "          quickchartButtonEl.classList.remove('colab-df-spinner');\n",
              "          quickchartButtonEl.classList.add('colab-df-quickchart-complete');\n",
              "        }\n",
              "        (() => {\n",
              "          let quickchartButtonEl =\n",
              "            document.querySelector('#df-0f8596d3-fb17-49e6-97cf-ecf9ec156d43 button');\n",
              "          quickchartButtonEl.style.display =\n",
              "            google.colab.kernel.accessAllowed ? 'block' : 'none';\n",
              "        })();\n",
              "      </script>\n",
              "    </div>\n",
              "\n",
              "  <div id=\"id_89756a29-efbd-4a91-8c25-cb6269b06c30\">\n",
              "    <style>\n",
              "      .colab-df-generate {\n",
              "        background-color: #E8F0FE;\n",
              "        border: none;\n",
              "        border-radius: 50%;\n",
              "        cursor: pointer;\n",
              "        display: none;\n",
              "        fill: #1967D2;\n",
              "        height: 32px;\n",
              "        padding: 0 0 0 0;\n",
              "        width: 32px;\n",
              "      }\n",
              "\n",
              "      .colab-df-generate:hover {\n",
              "        background-color: #E2EBFA;\n",
              "        box-shadow: 0px 1px 2px rgba(60, 64, 67, 0.3), 0px 1px 3px 1px rgba(60, 64, 67, 0.15);\n",
              "        fill: #174EA6;\n",
              "      }\n",
              "\n",
              "      [theme=dark] .colab-df-generate {\n",
              "        background-color: #3B4455;\n",
              "        fill: #D2E3FC;\n",
              "      }\n",
              "\n",
              "      [theme=dark] .colab-df-generate:hover {\n",
              "        background-color: #434B5C;\n",
              "        box-shadow: 0px 1px 3px 1px rgba(0, 0, 0, 0.15);\n",
              "        filter: drop-shadow(0px 1px 2px rgba(0, 0, 0, 0.3));\n",
              "        fill: #FFFFFF;\n",
              "      }\n",
              "    </style>\n",
              "    <button class=\"colab-df-generate\" onclick=\"generateWithVariable('df')\"\n",
              "            title=\"Generate code using this dataframe.\"\n",
              "            style=\"display:none;\">\n",
              "\n",
              "  <svg xmlns=\"http://www.w3.org/2000/svg\" height=\"24px\"viewBox=\"0 0 24 24\"\n",
              "       width=\"24px\">\n",
              "    <path d=\"M7,19H8.4L18.45,9,17,7.55,7,17.6ZM5,21V16.75L18.45,3.32a2,2,0,0,1,2.83,0l1.4,1.43a1.91,1.91,0,0,1,.58,1.4,1.91,1.91,0,0,1-.58,1.4L9.25,21ZM18.45,9,17,7.55Zm-12,3A5.31,5.31,0,0,0,4.9,8.1,5.31,5.31,0,0,0,1,6.5,5.31,5.31,0,0,0,4.9,4.9,5.31,5.31,0,0,0,6.5,1,5.31,5.31,0,0,0,8.1,4.9,5.31,5.31,0,0,0,12,6.5,5.46,5.46,0,0,0,6.5,12Z\"/>\n",
              "  </svg>\n",
              "    </button>\n",
              "    <script>\n",
              "      (() => {\n",
              "      const buttonEl =\n",
              "        document.querySelector('#id_89756a29-efbd-4a91-8c25-cb6269b06c30 button.colab-df-generate');\n",
              "      buttonEl.style.display =\n",
              "        google.colab.kernel.accessAllowed ? 'block' : 'none';\n",
              "\n",
              "      buttonEl.onclick = () => {\n",
              "        google.colab.notebook.generateWithVariable('df');\n",
              "      }\n",
              "      })();\n",
              "    </script>\n",
              "  </div>\n",
              "\n",
              "    </div>\n",
              "  </div>\n"
            ],
            "application/vnd.google.colaboratory.intrinsic+json": {
              "type": "dataframe",
              "variable_name": "df"
            }
          },
          "metadata": {},
          "execution_count": 56
        }
      ]
    },
    {
      "cell_type": "markdown",
      "source": [
        "**Delivery Expansion**"
      ],
      "metadata": {
        "id": "m4woxHseuTxp"
      }
    },
    {
      "cell_type": "code",
      "source": [
        "!pip install pymc3 -q"
      ],
      "metadata": {
        "id": "ErcGlIivFp4k"
      },
      "execution_count": null,
      "outputs": []
    },
    {
      "cell_type": "code",
      "source": [
        "import pymc as pm\n",
        "import arviz as az\n",
        "import matplotlib.pyplot as plt\n",
        "import pandas as pd\n",
        "\n",
        "\n",
        "top_localities = df['locality'].value_counts().index[:5]\n",
        "df_bayes = df[df['locality'].isin(top_localities)].copy()\n",
        "\n",
        "df_bayes['locality_code'] = df_bayes['locality'].astype('category').cat.codes\n",
        "n_localities = df_bayes['locality_code'].nunique()\n",
        "\n",
        "locality_map = dict(enumerate(df_bayes['locality'].astype('category').cat.categories))\n",
        "\n",
        "with pm.Model() as model:\n",
        "    mu = pm.Normal('mu', mu=0, sigma=10, shape=n_localities)\n",
        "    sigma = pm.Exponential('sigma', 1.0)\n",
        "\n",
        "    y_obs = pm.Normal('y_obs', mu=mu[df_bayes['locality_code'].values],\n",
        "                      sigma=sigma, observed=df_bayes['Quantity'])\n",
        "\n",
        "    trace = pm.sample(2000, tune=1000, return_inferencedata=True, random_seed=42)\n",
        "\n",
        "# Plotting\n",
        "fig, ax = plt.subplots(figsize=(8, 5))\n",
        "az.plot_forest(trace, var_names=['mu'], combined=True, hdi_prob=0.95, ax=ax,)\n",
        "locality_names = [locality_map[i] for i in range(n_localities)]\n",
        "ax.set_yticklabels(locality_names)\n",
        "\n",
        "plt.title('Bayesian Estimation: Mean Quantity by Locality')\n",
        "plt.tight_layout()\n",
        "plt.show()\n"
      ],
      "metadata": {
        "colab": {
          "base_uri": "https://localhost:8080/",
          "height": 692,
          "referenced_widgets": [
            "38a5e16464e04ebcbe3025b81d1a7491",
            "f5ba587642474a18a575fa562415cf0a"
          ]
        },
        "id": "p6F8BVWNJSVo",
        "outputId": "9459652e-6005-4749-e164-926423991438"
      },
      "execution_count": null,
      "outputs": [
        {
          "output_type": "display_data",
          "data": {
            "text/plain": [
              "Output()"
            ],
            "application/vnd.jupyter.widget-view+json": {
              "version_major": 2,
              "version_minor": 0,
              "model_id": "38a5e16464e04ebcbe3025b81d1a7491"
            }
          },
          "metadata": {}
        },
        {
          "output_type": "display_data",
          "data": {
            "text/plain": [],
            "text/html": [
              "<pre style=\"white-space:pre;overflow-x:auto;line-height:normal;font-family:Menlo,'DejaVu Sans Mono',consolas,'Courier New',monospace\"></pre>\n"
            ]
          },
          "metadata": {}
        },
        {
          "output_type": "stream",
          "name": "stderr",
          "text": [
            "/tmp/ipython-input-59-4281458177.py:37: UserWarning: Glyph 128230 (\\N{PACKAGE}) missing from font(s) DejaVu Sans.\n",
            "  plt.tight_layout()\n",
            "/usr/local/lib/python3.11/dist-packages/IPython/core/pylabtools.py:151: UserWarning: Glyph 128230 (\\N{PACKAGE}) missing from font(s) DejaVu Sans.\n",
            "  fig.canvas.print_figure(bytes_io, **kw)\n"
          ]
        },
        {
          "output_type": "display_data",
          "data": {
            "text/plain": [
              "<Figure size 800x500 with 1 Axes>"
            ],
            "image/png": "[encoded data removed]"
          },
          "metadata": {}
        }
      ]
    },
    {
      "cell_type": "markdown",
      "source": [
        "Top 3 Delivery Expansion Picks:\n",
        "\n",
        "Barrackpore : Likely has established infrastructure (being a major town) for scaling logistics efficiently.\n",
        "\n",
        "Belgharia : Central location between Sodepur/Khardah/Agarpara—ideal for a hub-and-spoke delivery model.\n",
        "\n",
        "Agarpara : Potential for untapped demand (if competitors are absent) despite similar purchase quantities."
      ],
      "metadata": {
        "id": "QOcDpM1QuQT2"
      }
    },
    {
      "cell_type": "code",
      "source": [
        "import pandas as pd\n",
        "\n",
        "# Extracting posterior means for mu\n",
        "mu_means = trace.posterior['mu'].mean(dim=[\"chain\", \"draw\"]).values\n",
        "locality_labels = df_bayes['locality'].astype('category').cat.categories\n",
        "\n",
        "locality_summary = pd.DataFrame({\n",
        "    'Locality': locality_labels,\n",
        "    'PosteriorMean': mu_means\n",
        "}).sort_values(by='PosteriorMean', ascending=False)\n",
        "\n",
        "print(locality_summary)\n"
      ],
      "metadata": {
        "colab": {
          "base_uri": "https://localhost:8080/"
        },
        "id": "C5nzI081MDLh",
        "outputId": "bcf09fe9-6cbb-40de-fbef-20e89fce2596"
      },
      "execution_count": null,
      "outputs": [
        {
          "output_type": "stream",
          "name": "stdout",
          "text": [
            "      Locality  PosteriorMean\n",
            "1  Barrackpore       1.158631\n",
            "0     Agarpara       1.154580\n",
            "4      Sodepur       1.152701\n",
            "3      Khardah       1.152424\n",
            "2    Belgharia       1.150315\n"
          ]
        }
      ]
    },
    {
      "cell_type": "code",
      "source": [
        "# Compute HDIs\n",
        "hdi_95 = az.hdi(trace, hdi_prob=0.95)['mu'].values\n",
        "\n",
        "locality_summary['Lower_95_HDI'] = hdi_95[:, 0]\n",
        "locality_summary['Upper_95_HDI'] = hdi_95[:, 1]\n",
        "locality_summary['HDI_Width'] = locality_summary['Upper_95_HDI'] - locality_summary['Lower_95_HDI']\n",
        "\n",
        "# Filter: high mean, low uncertainty\n",
        "top_expansion_targets = locality_summary.sort_values(\n",
        "    by=['PosteriorMean', 'HDI_Width'], ascending=[False, True]\n",
        ")\n",
        "\n",
        "print(\"Suggested Localities for Delivery Expansion:\")\n",
        "print(top_expansion_targets.head(5))\n"
      ],
      "metadata": {
        "colab": {
          "base_uri": "https://localhost:8080/"
        },
        "id": "CxujUjzmMIb-",
        "outputId": "fe44fe1a-ca83-4a1e-bf48-f5bfd1b678f6"
      },
      "execution_count": null,
      "outputs": [
        {
          "output_type": "stream",
          "name": "stdout",
          "text": [
            "Suggested Localities for Delivery Expansion:\n",
            "      Locality  PosteriorMean  Lower_95_HDI  Upper_95_HDI  HDI_Width\n",
            "1  Barrackpore       1.158631      1.149502      1.159868   0.010366\n",
            "0     Agarpara       1.154580      1.152966      1.164945   0.011978\n",
            "4      Sodepur       1.152701      1.142939      1.157970   0.015031\n",
            "3      Khardah       1.152424      1.146037      1.158403   0.012366\n",
            "2    Belgharia       1.150315      1.148931      1.156399   0.007468\n"
          ]
        }
      ]
    },
    {
      "cell_type": "markdown",
      "source": [
        "What Are HDIs?\n",
        "HDI (Highest Density Interval): The 95% HDI (1.145-1.165) is the range where 95% of credible mean values lie—narrow widths (e.g., 0.007 for Belgharia) indicate high certainty in demand estimates.\n",
        "\n",
        "\n",
        "\n",
        "Barrackpore : Highest mean demand (1.158) + moderate certainty (HDI width: 0.010) → Best balance of demand & reliability.\n",
        "\n",
        "Belgharia : Tightest HDI (width: 0.007) → Most predictable demand for risk-averse scaling.\n",
        "\n",
        "Agarpara : Strong mean (1.154) + low HDI width (0.011) → High potential with minimal uncertainty."
      ],
      "metadata": {
        "id": "Q1pQeTKswHOA"
      }
    },
    {
      "cell_type": "markdown",
      "source": [
        "**Testing for Khardah's Profitability**"
      ],
      "metadata": {
        "id": "LsCnsAm_TovM"
      }
    },
    {
      "cell_type": "code",
      "source": [
        "\n",
        "test_df = df[df['locality'].isin(['Sodepur', 'Khardah'])].copy()\n",
        "\n",
        "test_df['Group'] = test_df['locality'].map({'Sodepur': 'A', 'Khardah': 'B'})"
      ],
      "metadata": {
        "id": "5rx-K9-pTroE"
      },
      "execution_count": null,
      "outputs": []
    },
    {
      "cell_type": "code",
      "source": [
        "print(\" Baseline Metrics (Sodepur vs. Khardah):\")\n",
        "print(test_df.groupby('locality').agg({\n",
        "    'Quantity': ['mean', 'std', 'count'],  # Sales volume\n",
        "    'TotalPrice': ['mean', 'std']          # Spending per order\n",
        "}))"
      ],
      "metadata": {
        "colab": {
          "base_uri": "https://localhost:8080/"
        },
        "id": "eTUFcCj0TvPR",
        "outputId": "5afe5cf9-4307-4b1f-b016-8a42f1255f04"
      },
      "execution_count": null,
      "outputs": [
        {
          "output_type": "stream",
          "name": "stdout",
          "text": [
            "📈 Baseline Metrics (Sodepur vs. Khardah):\n",
            "          Quantity                    TotalPrice            \n",
            "              mean       std   count        mean         std\n",
            "locality                                                    \n",
            "Khardah   1.152428  0.620674   38792  506.160180  285.662403\n",
            "Sodepur   1.152707  0.620728  105044  505.345914  285.129865\n"
          ]
        }
      ]
    },
    {
      "cell_type": "markdown",
      "source": [
        "T-test and Chi-square to see if Kharadh is really not a profitable option"
      ],
      "metadata": {
        "id": "JtvjuWvMvwJl"
      }
    },
    {
      "cell_type": "code",
      "source": [
        "\n",
        "kh_vs_sp = df[df['locality'].isin(['Khardah','Sodepur'])].copy()\n",
        "\n",
        "# T-test for Quantity\n",
        "t_stat, p_val = ttest_ind(kh_vs_sp[kh_vs_sp['locality']=='Khardah']['Quantity'],\n",
        "                         kh_vs_sp[kh_vs_sp['locality']=='Sodepur']['Quantity'],\n",
        "                         equal_var=False)\n",
        "print(f\"Khardah vs Sodepur T-test p-value: {p_val:.4f}\")\n",
        "\n",
        "# Chi-square for PriceBuckets\n",
        "contingency = pd.crosstab(kh_vs_sp['locality'], kh_vs_sp['PriceBucket'])\n",
        "chi2, p_chi, _, _ = chi2_contingency(contingency)\n",
        "print(f\"PriceBucket Chi-square p-value: {p_chi:.4f}\")"
      ],
      "metadata": {
        "colab": {
          "base_uri": "https://localhost:8080/"
        },
        "id": "a78CKC70Z2V7",
        "outputId": "35b0b613-afb8-4a53-e7e0-2f9de6ba0f18"
      },
      "execution_count": null,
      "outputs": [
        {
          "output_type": "stream",
          "name": "stdout",
          "text": [
            "Khardah vs Sodepur T-test p-value: 0.9397\n",
            "PriceBucket Chi-square p-value: 0.9926\n"
          ]
        }
      ]
    },
    {
      "cell_type": "code",
      "source": [
        "import numpy as np\n",
        "from scipy.stats import beta\n",
        "\n",
        "def bayesian_ab_test(group_a, group_b):\n",
        "    \"\"\"\n",
        "    Bayesian A/B test for continuous quantity data (simplified approach).\n",
        "    Converts continuous values to binary \"successes\" (above median).\n",
        "    \"\"\"\n",
        "    # Convert quantities to binary \"successes\" (1 if above median, 0 otherwise)\n",
        "    combined = np.concatenate([group_a, group_b])\n",
        "    median_val = np.median(combined)\n",
        "\n",
        "    success_a = np.sum(group_a > median_val)\n",
        "    success_b = np.sum(group_b > median_val)\n",
        "    total_a, total_b = len(group_a), len(group_b)\n",
        "\n",
        "    # Bayesian Beta-Binomial model (weak priors Beta(1,1))\n",
        "    samples_a = beta.rvs(1 + success_a, 1 + total_a - success_a, size=10000)\n",
        "    samples_b = beta.rvs(1 + success_b, 1 + total_b - success_b, size=10000)\n",
        "\n",
        "    return {\n",
        "        'P(B > A)': np.mean(samples_b > samples_a),\n",
        "        'Median A': np.median(samples_a),\n",
        "        'Median B': np.median(samples_b),\n",
        "        'Uplift': np.median(samples_b - samples_a)\n",
        "    }\n",
        "\n",
        "# Prepare data\n",
        "group_a = df[df['locality'] == 'Sodepur']['Quantity'].values\n",
        "group_b = df[df['locality'] == 'Khardah']['Quantity'].values\n",
        "\n",
        "# Run test\n",
        "results = bayesian_ab_test(group_a, group_b)\n",
        "print(f\"Probability Khardah > Sodepur: {results['P(B > A)']:.1%}\")\n",
        "print(f\"Median conversion rate - Sodepur: {results['Median A']:.3f}\")\n",
        "print(f\"Median conversion rate - Khardah: {results['Median B']:.3f}\")\n",
        "print(f\"Estimated uplift: {results['Uplift']:.3f}\")"
      ],
      "metadata": {
        "colab": {
          "base_uri": "https://localhost:8080/"
        },
        "id": "DVcTkevN9JB9",
        "outputId": "267c5808-7c46-461c-caa7-aeb25893f320"
      },
      "execution_count": null,
      "outputs": [
        {
          "output_type": "stream",
          "name": "stdout",
          "text": [
            "Probability Khardah > Sodepur: 42.4%\n",
            "Median conversion rate - Sodepur: 0.072\n",
            "Median conversion rate - Khardah: 0.072\n",
            "Estimated uplift: -0.000\n"
          ]
        }
      ]
    },
    {
      "cell_type": "markdown",
      "source": [
        "**Statistically Identical Demand:**\n",
        "\n",
        "Bayesian A/B test shows 42.4% probability Khardah outperforms Sodepur (≈50% would mean no difference).\n",
        "\n",
        "Near-identical median conversion rates (0.072 vs. 0.072) and zero uplift confirm demand is indistinguishable.\n",
        "\n",
        "**Supporting Evidence:**\n",
        "\n",
        "T-test (p=0.94) and Chi-square (p=0.99) further validate no meaningful differences in quantity or price sensitivity."
      ],
      "metadata": {
        "id": "tqko8e_rxjKy"
      }
    },
    {
      "cell_type": "code",
      "source": [
        "def bayesian_ab_test_adjacent(group_a, group_b, adjacency_bonus=0.2):\n",
        "    results = bayesian_ab_test(group_a, group_b)  # Original results\n",
        "\n",
        "    # Adjust uplift for adjacency (e.g., 20% operational cost savings)\n",
        "    adjusted_uplift = results['Uplift'] * (1 + adjacency_bonus)\n",
        "\n",
        "    return {\n",
        "        'P(B > A)': results['P(B > A)'],\n",
        "        'Original Uplift': results['Uplift'],\n",
        "        'Adjacency Bonus (%)': adjacency_bonus * 100,\n",
        "        'Adjusted Uplift': adjusted_uplift\n",
        "    }\n",
        "\n",
        "# Test Khardah (adjacent) vs Sodepur\n",
        "results_kh = bayesian_ab_test_adjacent(\n",
        "    df[df['locality'] == 'Sodepur']['Quantity'].values,\n",
        "    df[df['locality'] == 'Khardah']['Quantity'].values,\n",
        "    adjacency_bonus=0.2  # 20% cost reduction\n",
        ")\n",
        "\n",
        "# Test Agarpara (adjacent) vs Sodepur\n",
        "results_ag = bayesian_ab_test_adjacent(\n",
        "    df[df['locality'] == 'Sodepur']['Quantity'].values,\n",
        "    df[df['locality'] == 'Agarpara']['Quantity'].values,\n",
        "    adjacency_bonus=0.2\n",
        ")\n",
        "\n",
        "print(\"Khardah vs Sodepur (Adjacent):\", results_kh)\n",
        "print(\"Agarpara vs Sodepur (Adjacent):\", results_ag)"
      ],
      "metadata": {
        "colab": {
          "base_uri": "https://localhost:8080/"
        },
        "id": "EATO6OtD9410",
        "outputId": "b2e19e23-f4a6-465c-d588-91970e0e885c"
      },
      "execution_count": null,
      "outputs": [
        {
          "output_type": "stream",
          "name": "stdout",
          "text": [
            "Khardah vs Sodepur (Adjacent): {'P(B > A)': np.float64(0.4172), 'Original Uplift': np.float64(-0.0003114483719804037), 'Adjacency Bonus (%)': 20.0, 'Adjusted Uplift': np.float64(-0.00037373804637648445)}\n",
            "Agarpara vs Sodepur (Adjacent): {'P(B > A)': np.float64(0.815), 'Original Uplift': np.float64(0.0012328483369476659), 'Adjacency Bonus (%)': 20.0, 'Adjusted Uplift': np.float64(0.001479418004337199)}\n"
          ]
        }
      ]
    },
    {
      "cell_type": "markdown",
      "source": [
        "**Khardah vs. Sodepur:**\n",
        "\n",
        "Identical Demand: Low probability (41.7%) of Khardah outperforming Sodepur and negative adjusted uplift (-0.00037) confirm no advantage—even with 20% adjacency bonus.\n",
        "\n",
        "Action: Only prioritize if Khardah offers other operational benefits (e.g., shorter routes).\n",
        "\n",
        "**Agarpara vs. Sodepur:**\n",
        "\n",
        "Clear Winner: 81.5% probability Agarpara outperforms Sodepur, with positive adjusted uplift (+0.0015) after adjacency bonus.\n",
        "\n",
        "Action: Focus expansion on Agarpara—its demand edge compounds with cost savings from proximity."
      ],
      "metadata": {
        "id": "xVb7jK3lx-_9"
      }
    },
    {
      "cell_type": "markdown",
      "source": [
        "**Delivery** **Options** **Comparison**"
      ],
      "metadata": {
        "id": "BNaKwBxPx-zQ"
      }
    },
    {
      "cell_type": "code",
      "source": [
        "import numpy as np\n",
        "from scipy.stats import beta\n",
        "from tabulate import tabulate\n",
        "\n",
        "def bayesian_ab_test(group_a, group_b):\n",
        "    \"\"\"Core Bayesian A/B test comparing two groups.\"\"\"\n",
        "    combined = np.concatenate([group_a, group_b])\n",
        "    median_val = np.median(combined)\n",
        "    success_a = np.sum(group_a > median_val)\n",
        "    success_b = np.sum(group_b > median_val)\n",
        "    total_a, total_b = len(group_a), len(group_b)\n",
        "\n",
        "    # Beta-Binomial model\n",
        "    samples_a = beta.rvs(1 + success_a, 1 + total_a - success_a, size=10000)\n",
        "    samples_b = beta.rvs(1 + success_b, 1 + total_b - success_b, size=10000)\n",
        "\n",
        "    return {\n",
        "        'P(B > A)': np.mean(samples_b > samples_a),\n",
        "        'Uplift': np.median(samples_b - samples_a)\n",
        "    }\n",
        "\n",
        "def logistic_adjusted_uplift(group_a, group_b, option='train_bicycle'):\n",
        "    \"\"\"Adjusts uplift based on delivery logistics.\"\"\"\n",
        "    base = bayesian_ab_test(group_a, group_b)\n",
        "\n",
        "    # Logistic parameters\n",
        "    params = {\n",
        "        'train_bicycle': {'cost': 14, 'time_hrs': 3, 'label': 'Train + Bicycle'},\n",
        "        'bike_only': {'cost': 25, 'time_hrs': 50/60, 'label': 'Bike Only'}\n",
        "    }[option]\n",
        "\n",
        "    # Demand decay (2% per hour)\n",
        "    demand_decay = 1 - (0.02 * params['time_hrs'])\n",
        "\n",
        "    # Cost penalty (1% per ₹10 over baseline ₹10)\n",
        "    cost_penalty = 1 - (0.01 * max(0, params['cost'] - 10) / 10)\n",
        "\n",
        "    adjusted_uplift = base['Uplift'] * demand_decay * cost_penalty\n",
        "    roi = (adjusted_uplift * 10000) / params['cost']  # ROI per ₹1 spent\n",
        "\n",
        "    return {\n",
        "        **base,\n",
        "        'Option': params['label'],\n",
        "        'Adjusted Uplift': adjusted_uplift,\n",
        "        'ROI per ₹': roi,\n",
        "        'Demand Decay (%)': (1 - demand_decay) * 100,\n",
        "        'Cost Penalty (%)': (1 - cost_penalty) * 100\n",
        "    }\n",
        "\n",
        "group_sodepur = df[df['locality'] == 'Sodepur']['Quantity'].values\n",
        "group_agarpara = df[df['locality'] == 'Khardah']['Quantity'].values\n",
        "\n",
        "results_train = logistic_adjusted_uplift(group_sodepur, group_agarpara, 'train_bicycle')\n",
        "results_bike = logistic_adjusted_uplift(group_sodepur, group_agarpara, 'bike_only')\n",
        "\n",
        "\n",
        "table_data = [\n",
        "    [\n",
        "        results_train['Option'],\n",
        "        f\"{results_train['P(B > A)']:.1%}\",\n",
        "        results_train['Uplift'],\n",
        "        results_train['Adjusted Uplift'],\n",
        "        f\"{results_train['ROI per ₹']:.3f}\",\n",
        "        f\"{results_train['Demand Decay (%)']:.1f}%\",\n",
        "        f\"{results_train['Cost Penalty (%)']:.1f}%\"\n",
        "    ],\n",
        "    [\n",
        "        results_bike['Option'],\n",
        "        f\"{results_bike['P(B > A)']:.1%}\",\n",
        "        results_bike['Uplift'],\n",
        "        results_bike['Adjusted Uplift'],\n",
        "        f\"{results_bike['ROI per ₹']:.3f}\",\n",
        "        f\"{results_bike['Demand Decay (%)']:.1f}%\",\n",
        "        f\"{results_bike['Cost Penalty (%)']:.1f}%\"\n",
        "    ]\n",
        "]\n",
        "\n",
        "headers = [\n",
        "    \"Option\", \"P(B > A)\", \"Original Uplift\", \"Adjusted Uplift\",\n",
        "    \"ROI per ₹\", \"Demand Decay\", \"Cost Penalty\"\n",
        "]\n",
        "print(tabulate(table_data, headers=headers, tablefmt=\"grid\", floatfmt=\".5f\"))"
      ],
      "metadata": {
        "colab": {
          "base_uri": "https://localhost:8080/"
        },
        "id": "hoNUe0S9_wWJ",
        "outputId": "86914cdb-e251-44a1-cdb4-f6614ed52a9f"
      },
      "execution_count": null,
      "outputs": [
        {
          "output_type": "stream",
          "name": "stdout",
          "text": [
            "+-----------------+------------+-------------------+-------------------+-------------+----------------+----------------+\n",
            "| Option          | P(B > A)   |   Original Uplift |   Adjusted Uplift |   ROI per ₹ | Demand Decay   | Cost Penalty   |\n",
            "+=================+============+===================+===================+=============+================+================+\n",
            "| Train + Bicycle | 40.8%      |          -0.00036 |          -0.00034 |    -0.24100 | 6.0%           | 0.4%           |\n",
            "+-----------------+------------+-------------------+-------------------+-------------+----------------+----------------+\n",
            "| Bike Only       | 42.2%      |          -0.00032 |          -0.00031 |    -0.12200 | 1.7%           | 1.5%           |\n",
            "+-----------------+------------+-------------------+-------------------+-------------+----------------+----------------+\n"
          ]
        }
      ]
    },
    {
      "cell_type": "code",
      "source": [
        "import matplotlib.pyplot as plt\n",
        "\n",
        "\n",
        "results_train = logistic_adjusted_uplift(group_sodepur, group_agarpara, 'train_bicycle')\n",
        "results_bike = logistic_adjusted_uplift(group_sodepur, group_agarpara, 'bike_only')\n",
        "\n",
        "labels = [results_train['Option'], results_bike['Option']]\n",
        "roi_values = [results_train['ROI per ₹'], results_bike['ROI per ₹']]\n",
        "uplift_values = [results_train['Adjusted Uplift'], results_bike['Adjusted Uplift']]\n",
        "\n",
        "fig, (ax1, ax2) = plt.subplots(1, 2, figsize=(12, 4))\n",
        "\n",
        "ax1.bar(labels, roi_values, color=['green', 'orange'])\n",
        "ax1.set_ylabel('ROI per ₹1 Spent')\n",
        "ax1.set_title('Cost Efficiency')\n",
        "ax1.grid(axis='y', linestyle='--', alpha=0.7)\n",
        "\n",
        "ax2.bar(labels, uplift_values, color=['green', 'orange'])\n",
        "ax2.set_ylabel('Adjusted Uplift')\n",
        "ax2.set_title('Demand Impact')\n",
        "ax2.grid(axis='y', linestyle='--', alpha=0.7)\n",
        "\n",
        "plt.tight_layout()\n",
        "plt.show()"
      ],
      "metadata": {
        "colab": {
          "base_uri": "https://localhost:8080/",
          "height": 382
        },
        "id": "nnfi1Wy8AdnP",
        "outputId": "83195cc7-4309-4d51-eac6-838a2094d3fa"
      },
      "execution_count": null,
      "outputs": [
        {
          "output_type": "display_data",
          "data": {
            "text/plain": [
              "<Figure size 1200x400 with 2 Axes>"
            ],
            "image/png": "[encoded data removed]"
          },
          "metadata": {}
        }
      ]
    }
  ]
}